{
 "cells": [
  {
   "cell_type": "markdown",
   "id": "afe49477",
   "metadata": {},
   "source": [
    "## Ejercicio 2\n",
    "### **Considere lo siguiente, analice y responda:**"
   ]
  },
  {
   "cell_type": "markdown",
   "id": "7ac7fa2a",
   "metadata": {},
   "source": [
    "#### **Escenario 1**\n",
    "\n",
    "Un país con una cobertura de vacunación contra la COVID-19 del **60%** observa un aumento del $R_t$ de $\\bold{0,8}$ a $\\bold{1,5}$ tras la\n",
    "aparición de una nueva variante.\n",
    "- ¿Cuáles son los dos factores que probablemente causaron este aumento?\n",
    "    1. **Aumento de la transmisibilidad de la nueva variante:** \n",
    "        \n",
    "        La variante puede portar mutaciones que aumenten la probabilidad de contagio por contacto, haciendo que el COVID-19 se transmita con mayor facilidad y por consecuencia, elevar $\\beta$. Si cada caso contagia a más personas en promedio, $R_t$ aumentaría aunque las medidas sigan igual.\n",
    "    2. **Reducción de la efectividad o de la inmunidad de la población:** \n",
    "    \n",
    "        Si la variante evade parcialmente los anticuerpos generados por vacunas o infecciones previas, la protección efectiva disminuye. Con la misma cobertura del 60%, pero con menor efectividad, hay más personas “susceptibles” de lo que pensamos y $R_t$ aumenta.\n",
    "- Proponga una intervención económica y una no económica para reducir el $R_t$.\n",
    "    1. **Intervención económica:**\n",
    "\n",
    "        Incentivar a la población mediante subsidios o recompensas por vacunación de refuerzo: Se podría implementar un descuento en impuestos, dar un pago directo o incluso organizar una lotería como en el ejemplo de **Vax-A-Million** en Ohio. Esto incrementaría la cobertura efectiva y reduciría la fracción susceptible $S$, disminuyendo así $R_t$. Además, este tipo de incentivos no solo motiva a quienes dudan en vacunarse, sino que también acelera la aplicación de refuerzos, lo que es clave para contrarrestar la propagación de la nueva variante.\n",
    "\n",
    "    2. **Intervención no económica:**\n",
    "\n",
    "        Imponer el uso obligatorio de mascarillas en espacios públicos cerrados. Esto reduciría la probabilidad de transmisión por contacto ($\\beta$), y sería efectivo mientras se trabaja en una vacuna adaptada para la nueva variante. El uso generalizado de mascarillas de buena calidad en ambientes cerrados y con poca ventilación disminuye la cantidad de partículas virales en el aire, interrumpiendo las cadenas de contagio y ayudando a que $R_t$ vuelva a valores manejables."
   ]
  },
  {
   "cell_type": "markdown",
   "id": "65ded005",
   "metadata": {},
   "source": [
    "#### **Escenario 2**\n",
    "La tasa de vacunación contra el VPH es del **40%** en una región con una asistencia escolar del **80%**.\n",
    "¿Sería más eficaz un mandato de ingreso a la escuela o clínicas móviles gratuitas? Justifique con:\n",
    "- Umbral de inmunidad de grupo ($R_0$ del VPH $\\thickapprox$ 4)\n",
    "- Principios de la teoría de juegos\n",
    "\n",
    "##### **Umbral de inmunidad de grupo:**\n",
    "$$\n",
    "R_0 = 4\n",
    "$$\n",
    "$$\n",
    "\\text{Cobertura necesaria} = 1− \\frac{1}{R_0}=1−\\frac{1}{4}=0.75=75\\%\n",
    "$$\n",
    "\n",
    "\n",
    "La tasa de vacunación actual contra el VPH **(40%)** está muy por debajo del umbral de inmunidad de grupo, que para un $R_0$ ≈ 4 se estima en un **75%**. En una región donde el **80%** de la población en edad escolar asiste a clases, un mandato de vacunación como requisito para el ingreso escolar tiene el potencial de aumentar de forma significativa la cobertura en poco tiempo, ya que obliga a un alto porcentaje de la población objetivo a vacunarse para poder continuar sus estudios.\n",
    "\n",
    "| Criterio | Mandato escolar | Clínicas móviles gratuitas |\n",
    "| -------- | --------------- | -------------------------- |\n",
    "| Cobertura potencial | Hasta el 80% del grupo | Potencialmente el 100% del grupo |\n",
    "| Eficiencia logística | Centralizado (escuelas) | Descentralizado, costoso de operar |\n",
    "| Equidad | Excluye a los niños fuera del sistema escolar | Abarca zonas rurales y poblaciones vulnerables |\n",
    "| Incentivo estratégico (teoría de juegos) | Aumenta el **costo de no vacunarse** (exclusión escolar) | Reduce el **costo de vacunarse** (acceso gratuito) |\n",
    "\n",
    "**Teoría de Juegos**\n",
    "* En modelos de teoría de juegos, los individuos eligen vacunarse si el beneficio percibido supera el costo.\n",
    "\n",
    "* El mandato escolar introduce una penalización estructural que es no asistir a clases, alterando el equilibrio y empujando hacia la vacunación.\n",
    "\n",
    "* Las clínicas móviles reducen el costo, pero no alteran tanto el equilibrio si el incentivo aún es bajo, dado que no perciben la vacunación como prioritaria\n",
    "\n",
    "Por ello, con la alta asistencia escolar de la región **(80%)**, el mandato escolar tiene más probabilidades de acercar rápidamente la cobertura al umbral del **75%** necesario para lograr inmunidad de grupo."
   ]
  }
 ],
 "metadata": {
  "language_info": {
   "name": "python"
  }
 },
 "nbformat": 4,
 "nbformat_minor": 5
}
