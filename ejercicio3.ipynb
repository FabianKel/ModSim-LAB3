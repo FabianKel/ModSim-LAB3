{
 "cells": [
  {
   "cell_type": "markdown",
   "id": "919b0ce2",
   "metadata": {},
   "source": [
    "## Ejercicio 3"
   ]
  },
  {
   "cell_type": "markdown",
   "id": "e595cab9",
   "metadata": {},
   "source": [
    "Simule el impacto de las intervenciones con Python. Para ello, modele una epidemia bajo tres políticas:\n",
    "\n",
    "    a. Línea base: Sin intervenciones (modelo SIR)\n",
    "\n",
    "    b. Lotería: Tasa de vacunación ↑ en 0,02/día después de 100 casos\n",
    "\n",
    "    c. Mandato: Refuerzo inmediato de la vacunación del 50 % cuando Rₜ > 1\n",
    "\n",
    "Para ello considere:\n",
    "\n",
    "    - Utilizar scipy.integrate.odeint para la dinámica del SIR\n",
    "    - Parámetros: β = 0.35, γ = 0.1, infectados iniciales = 10, población = 10,000\n",
    "\n",
    "Par sus resultados, deberá presentar\n",
    "\n",
    "    • Gráfico de series temporales de infecciones bajo los tres escenarios\n",
    "    • Análisis y comparación del recuento final de infectados"
   ]
  },
  {
   "cell_type": "markdown",
   "id": "c7a73723",
   "metadata": {},
   "source": [
    "## **Prompt utilizado**\n",
    "*Se utilizo ChatGPT*\n",
    "\n",
    "### **Por qué funcionó este prompt**\n",
    "\n",
    "\n",
    "### **Análisis de la solución**\n"
   ]
  }
 ],
 "metadata": {
  "language_info": {
   "name": "python"
  }
 },
 "nbformat": 4,
 "nbformat_minor": 5
}
