{
 "cells": [
  {
   "cell_type": "markdown",
   "id": "73aeba8d",
   "metadata": {},
   "source": [
    "## Ejercicio 1\n",
    "### **Defina y compare**"
   ]
  },
  {
   "cell_type": "markdown",
   "id": "d5b3265b",
   "metadata": {},
   "source": [
    "1. Retraso de primer orden vs. cadena de retrasos\n",
    "\n",
    "    | Retraso de primer orden | Cadena de retrasos |\n",
    "    |------------------------ | ------------------ |\n",
    "    | Modelo simple de ajuste gradual. | Modelo compuesto por varias etapas secuenciales. |\n",
    "    | Se representa con una ecuación diferencial de primer orden ( ej. $\\frac{dx}{dt} = \\frac{(objetivo - x)}{\\tau}$ ). | Se modela como una serie de variables intermedias, cada una con su propio retardo. |\n",
    "    | Respuesta más rápida pero menos realista para procesos biológicos complejos. | Más realista al simular tiempos de incubación o procesamiento escalonado.|\n",
    "\n",
    "<br>\n",
    "\n",
    "2. Fuerza de infección ($\\lambda$) vs. número básico de reproducción ($R_o$)\n",
    "\n",
    "    | Fuerza de infección $\\lambda = \\beta c \\frac{I}{N}$  |  Número básico de reproducción $R_0$ |\n",
    "    | ---  |  --- |\n",
    "    | Tasa instantánea de contagio para un susceptible.    |  Número esperado de infecciones secundarias causadas por un infectado en una población totalmente susceptible. |\n",
    "    | Depende del número actual de infectados y contactos. |  Es un valor promedio constante al inicio del brote. |\n",
    "    | Tiene interpretación de riesgo y de tasa de transmisión. | Se usa para estimar el potencial de propagación y el umbral de inmunidad de grupo.|"
   ]
  },
  {
   "cell_type": "markdown",
   "id": "1d001136",
   "metadata": {},
   "source": [
    "### **Explique por qué**"
   ]
  },
  {
   "cell_type": "markdown",
   "id": "c2927319",
   "metadata": {},
   "source": [
    "1. El sarampión requiere una cobertura de vacunación superior al 95%, mientras que el ébola solo necesita\n",
    "aproximadamente el 50%.\n",
    "    - Esto se debe a que el número básico de reproducción $R_0$ del sarampión es extremadamente alto (entre **12** y **18**), lo que implica que una sola persona puede infectar a muchas otras. Para evitar brotes, se necesita una inmunidad colectiva muy alta:\n",
    "    $$\n",
    "    \\text{Cobertura} = 1 - \\frac{1}{R_0}\n",
    "    $$\n",
    "\n",
    "    - Para el sarampión $(R_0 \\thickapprox 15) → 1 - 1/15 = 0.933 \\thickapprox 93\\%$\n",
    "    - Para el ébola ($R_0 \\thickapprox 2) → 1 − 1/2 = 0.5 = 50\\%$\n",
    "            \n",
    "        Por eso el sarampión requiere coberturas cercanas o superiores al 95% para prevenir brotes, mientras que el ébola necesita aproximadamente el 50%.\n",
    "\n",
    "<br>\n",
    "\n",
    "2. Las exigencias de vacunación alteran los equilibrios de Nash en modelos de teoría de juegos.\n",
    "    - En modelos de teoría de juegos aplicados a vacunación, los individuos deciden si vacunarse o no en función del riesgo percibido y del comportamiento de los demás. Sin exigencias, muchos pueden optar por ser \"free-riders\", que son los que aprovechan la inmunidad de grupo sin vacunarse.\n",
    "\n",
    "    - Entonces al imponer exigencias estructurales, se eliminan esas opciones, modificando los incentivos del juego. Lo que rompe el equilibrio subóptimo de no vacunarse, llevando al sistema a un nuevo equilibrio con mayor cobertura."
   ]
  },
  {
   "cell_type": "markdown",
   "id": "f05d612e",
   "metadata": {},
   "source": [
    "### **Defina y compare los mecanismos de:**"
   ]
  },
  {
   "cell_type": "markdown",
   "id": "11f97371",
   "metadata": {},
   "source": [
    "* La lotería de vacunas de Ohio (conductual).\n",
    "    - Es una estrategia de tipo incentivo positivo basada en comportamiento.\n",
    "    - Ofrecía la oportunidad de ganar dinero cada semana si las personas se vacunaban voluntariamente.\n",
    "    - Buscaba motivar la vacunación mediante intervención económica.\n",
    "\n",
    "* Las exigencias de ingreso escolar en Francia (estructural)\n",
    "    - Esta estrategia consistía en dejar acceder a la educación únicamente a los jóvenes que estaban vacunados.\n",
    "    - No era opcional para los estudiantes, ya que los privaban de sus estudios de no vacunarse.\n",
    "    - Se cambiaron las reglas del sistema en lugar de motivar por una recompensa. Es con una intervención no económica."
   ]
  }
 ],
 "metadata": {
  "language_info": {
   "name": "python"
  }
 },
 "nbformat": 4,
 "nbformat_minor": 5
}
